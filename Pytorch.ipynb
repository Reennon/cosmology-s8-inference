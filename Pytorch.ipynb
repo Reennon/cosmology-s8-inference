{
  "nbformat": 4,
  "nbformat_minor": 0,
  "metadata": {
    "colab": {
      "name": "Pytorch.ipynb",
      "provenance": [],
      "collapsed_sections": [],
      "authorship_tag": "ABX9TyO8C9M1c5FK8uaRH2X54zx0",
      "include_colab_link": true
    },
    "kernelspec": {
      "name": "python3",
      "display_name": "Python 3"
    },
    "accelerator": "GPU"
  },
  "cells": [
    {
      "cell_type": "markdown",
      "metadata": {
        "id": "view-in-github",
        "colab_type": "text"
      },
      "source": [
        "<a href=\"https://colab.research.google.com/github/franciscovillaescusa/ML_lectures/blob/main/Pytorch.ipynb\" target=\"_parent\"><img src=\"https://colab.research.google.com/assets/colab-badge.svg\" alt=\"Open In Colab\"/></a>"
      ]
    },
    {
      "cell_type": "markdown",
      "metadata": {
        "id": "_cfwTEquCfGG"
      },
      "source": [
        "# Pytorch\n",
        "\n",
        "PyTorch is a Python-based scientific computing package serving two broad purposes:\n",
        "\n",
        "- A replacement for NumPy to use the power of GPUs and other accelerators.\n",
        "- An automatic differentiation library that is useful to implement neural networks."
      ]
    },
    {
      "cell_type": "markdown",
      "metadata": {
        "id": "Io1FpiGmFjIj"
      },
      "source": [
        "Load the relevant libraries"
      ]
    },
    {
      "cell_type": "code",
      "metadata": {
        "id": "3nxtFanzCawt"
      },
      "source": [
        "import torch\n",
        "import numpy as np"
      ],
      "execution_count": 2,
      "outputs": []
    },
    {
      "cell_type": "markdown",
      "metadata": {
        "id": "lMsdrZJsHJQZ"
      },
      "source": [
        "#### Basic operations"
      ]
    },
    {
      "cell_type": "code",
      "metadata": {
        "id": "dNXqZU_MHI5P"
      },
      "source": [
        "# define a tensor manually\n",
        "t = torch.tensor([1.4, 2.2, 3.5])\n",
        "\n",
        "# create it from numpy arrays\n",
        "a  = np.random.random((10,1))             #define the numpy array\n",
        "t1 = torch.tensor(a)                      #create tensor; data type is the same as numpy array\n",
        "t2 = torch.tensor(a, dtype=torch.float32) #specify data type if needed\n",
        "t3 = torch.Tensor(a)                      #same as t1 but will set dtype to be float32 (standard pytorch dtype)\n",
        "t4 = torch.as_tensor(a)                   #same dtype as numpy array\n",
        "t5 = torch.from_numpy(a)                  #same dtype as numpy array\n",
        "# t1, t2, and t3 will create a copy of the data a\n",
        "# t4 and t5 will share the data with a\n",
        "\n",
        "# lets see the data and their type\n",
        "print('a=',a)\n",
        "print('a type:',a.dtype)\n",
        "print('t1=',t1)\n",
        "print('data type:',t1.dtype)\n",
        "print('t1=',t1) \n",
        "print('data type:',t2.dtype)\n",
        "print('t2=',t2) \n",
        "print('data type:',t3.dtype)\n",
        "print('t3=',t3) \n",
        "print('data type:',t4.dtype)\n",
        "print('t5=',t5) \n",
        "print('data type:',t5.dtype)"
      ],
      "execution_count": null,
      "outputs": []
    },
    {
      "cell_type": "markdown",
      "metadata": {
        "id": "kaENFE3zuuto"
      },
      "source": [
        "#### Lets see how to visualize tensor properties"
      ]
    },
    {
      "cell_type": "code",
      "metadata": {
        "id": "Bn3EQWi5SQAa"
      },
      "source": [
        "# tensor attributes\n",
        "print('t2 shape:',t2.shape)\n",
        "print('t2 type:',t2.dtype)\n",
        "print('device where t2 is:',t2.device)\n",
        "print('t2 layout:',t2.layout)"
      ],
      "execution_count": null,
      "outputs": []
    },
    {
      "cell_type": "markdown",
      "metadata": {
        "id": "SKT_Xv3Rya8T"
      },
      "source": [
        "#### Some useful pytorch functions to operate with tensors"
      ]
    },
    {
      "cell_type": "code",
      "metadata": {
        "id": "NoAji_B9u8CC"
      },
      "source": [
        "a = torch.eye(2)     #creates diagonal matrix with 2x2 elements: [[1.,0.],[0.,1.]]\n",
        "b = torch.zeros(2,2) #fill a 2x2 matrix with zeros\n",
        "c = torch.ones(2,2)  #fill a 2x2 matrix with ones\n",
        "print('a =',a)\n",
        "print('b =',b)\n",
        "print('c =',c)\n",
        "print(a.dtype, b.dtype, c.dtype, d.dtype)"
      ],
      "execution_count": null,
      "outputs": []
    },
    {
      "cell_type": "markdown",
      "metadata": {
        "id": "18MU5-CTFT5W"
      },
      "source": [
        "#### Generate random numbers"
      ]
    },
    {
      "cell_type": "code",
      "metadata": {
        "id": "f29a6RLUFVyV"
      },
      "source": [
        "seed = 1\n",
        "torch.manual_seed(seed)\n",
        "t = torch.rand(10)\n",
        "print(t)"
      ],
      "execution_count": null,
      "outputs": []
    },
    {
      "cell_type": "markdown",
      "metadata": {
        "id": "GhHxsGvBN-pH"
      },
      "source": [
        "#### More pytorch functions"
      ]
    },
    {
      "cell_type": "code",
      "metadata": {
        "id": "HGc_oQLzOB9z"
      },
      "source": [
        "# get a tensor\n",
        "t = torch.tensor([[1.1, 2.1, 3.5],[-1.0, 0.0, 0.9],[3.1, -8.2, 7.2]], dtype=torch.float32)\n",
        "print(t,'\\n')\n",
        "\n",
        "# print the results of some conditional operations (0-False, 1-True)\n",
        "print('where t==0:')\n",
        "print(t.eq(0),'\\n')  #where the tensor is equal to 0\n",
        "print('where t>=0:')\n",
        "print(t.ge(0),'\\n')  #where the tensor is equal or greater than 0\n",
        "print('where t>0:')\n",
        "print(t.gt(0),'\\n')  #where the tensor is greater than 0\n",
        "print('where t<=0:')\n",
        "print(t.le(0),'\\n')  #where the tensor is equal or less than 0\n",
        "print('where t<0:')\n",
        "print(t.lt(0),'\\n')  #where the tensor is less than \n",
        "\n",
        "# frequently used operations\n",
        "print('Total sum:',t.sum())\n",
        "print('Sum along first axis:',t.sum(dim=0))\n",
        "print('Mean value:',t.mean())\n",
        "print('standard deviation:',t.std())\n",
        "print('Maximum value:', t.max())\n",
        "print('Maximum value along first axis:',t.max(dim=0))\n",
        "print('index of the maximum value in the tensor:',t.argmax()) #gives the index of the maximum value in t\n",
        "print('transpose of tensor:')\n",
        "print(t.t(),'\\n') #transpose of a tensor\n",
        "\n",
        "# other operations\n",
        "print('abs(t):')\n",
        "print(t.abs(),'\\n') #absolute value\n",
        "print('sqrt(t):')\n",
        "print(t.sqrt(),'\\n')\n",
        "print('-t:')\n",
        "print(t.neg(),'\\n')  #return the negative values of the tensor\n",
        "print('t0*t1*t2*....:')\n",
        "print(t.prod(),'\\n') #product of all elements\n",
        "\n",
        "# get the scalar value, not a tensor\n",
        "print('mean value (scalar):',t.mean().item())"
      ],
      "execution_count": null,
      "outputs": []
    },
    {
      "cell_type": "markdown",
      "metadata": {
        "id": "Rr6GtcMfNFPp"
      },
      "source": [
        "#### Reshaping and indexing tensors"
      ]
    },
    {
      "cell_type": "code",
      "metadata": {
        "id": "hLovBOerzF9s"
      },
      "source": [
        "# define a tensor\n",
        "t = torch.rand((10,3))\n",
        "print('Tensor t:')\n",
        "print(t,'\\n')\n",
        "\n",
        "# tensors can also be indexed as numpy arrays\n",
        "print('Third component of tensor t:')\n",
        "print(t[:,2],'\\n')\n",
        "\n",
        "# reshape/stack \n",
        "print('Reshaping tensor into 5x6 tensor:')\n",
        "print(t.reshape(5,6),'\\n')\n",
        "print('Reshaping tensor into 1x30 tensor:')\n",
        "print(t.reshape(1,-1),'\\n') #for the second dimension pytorch will figure out the correct number\n",
        "#print(t.reshape(-1);  t.squeeze();  t.flatten();  t.view(t.numel())  #create a 1D tensor\n",
        "#t.flatten(start_dim=1);  #flatten only from first dimension\n",
        "\n",
        "# pytorch will do automatic broadcasting\n",
        "t1 = torch.tensor([[1,1],[1,1]], dtype=torch.float32)\n",
        "t2 = torch.tensor([2,4], dtype=torch.float32)\n",
        "# Pytorch only supports operations between same data type tensors (float,int...)\n",
        "print('t1 =',t1)\n",
        "print('t2 =',t2)\n",
        "print('t1+t2 =',t1 + t2)\n",
        "\n",
        "# above, t2 is broadcasted to the shape of t1. To see what it is doing use this\n",
        "np.broadcast_to(t2.numpy(), t1.shape)"
      ],
      "execution_count": null,
      "outputs": []
    },
    {
      "cell_type": "markdown",
      "metadata": {
        "id": "Vi4R1lHgeIMd"
      },
      "source": [
        "#### Squeezing and unsqueezing"
      ]
    },
    {
      "cell_type": "code",
      "metadata": {
        "id": "jbb9UOWreOGS"
      },
      "source": [
        "# create a tensor\n",
        "t = torch.rand(10,3)\n",
        "print(t)\n",
        "print(t.shape)\n",
        "\n",
        "# unsqueeze it (add an extra dimension along first axis)\n",
        "t1 = t.unsqueeze(0) #specify the dimension in the parenthesis\n",
        "print(t1)\n",
        "print(t1.shape)\n",
        "\n",
        "# squeeze it (remove dimension along first axis)\n",
        "t2 = t1.squeeze_(0)\n",
        "print(t2)\n",
        "print(t2.shape)"
      ],
      "execution_count": null,
      "outputs": []
    },
    {
      "cell_type": "markdown",
      "metadata": {
        "id": "1RXBsikxQ8kT"
      },
      "source": [
        "#### Stack and concatenate tensors"
      ]
    },
    {
      "cell_type": "code",
      "metadata": {
        "id": "C19OPvCjRAK3"
      },
      "source": [
        "# generate two tensors\n",
        "t1 = torch.rand(5,2)\n",
        "t2 = torch.rand(5,2)\n",
        "print(t1)\n",
        "print(t2)\n",
        "\n",
        "# stack two tensors\n",
        "t = torch.stack((t1,t2))\n",
        "print(t)\n",
        "\n",
        "# concatenate along some dimension\n",
        "t = torch.cat((t1,t2),dim=0)\n",
        "print(t)"
      ],
      "execution_count": null,
      "outputs": []
    },
    {
      "cell_type": "markdown",
      "metadata": {
        "id": "UdIozn2eHMGH"
      },
      "source": [
        "#### Move data to/from GPU from/to CPU\n",
        "In order to enable the usage of a GPU:\n",
        "\n",
        "Runtime -----> Change runtime type -----> Harwdare accelerator -----> GPU"
      ]
    },
    {
      "cell_type": "code",
      "metadata": {
        "id": "AQMrpZV9FgDU"
      },
      "source": [
        "# find the device\n",
        "if torch.cuda.is_available():\n",
        "    print(\"CUDA Available\")\n",
        "    device = torch.device('cuda')\n",
        "else:\n",
        "    print('CUDA Not Available')\n",
        "    device = torch.device('cpu')\n",
        "\n",
        "# data can be created with numpy in a CPU\n",
        "data = np.random.random((12,2,3)).astype(np.float32)\n",
        "\n",
        "# create a torch tensor\n",
        "data = torch.tensor(data)\n",
        "print('data is located in:',data.device)\n",
        "\n",
        "# move the tensor to the GPU\n",
        "data = data.to(device) \n",
        "print('data is located in:',data.device)                \n",
        "\n",
        "# move a tensor to CPU\n",
        "data = (data.cpu())#.numpy()\n",
        "print('data is located in:',data.device) \n",
        "\n",
        "# transform tensor to numpy array\n",
        "data = data.numpy()\n",
        "print(data)"
      ],
      "execution_count": null,
      "outputs": []
    },
    {
      "cell_type": "markdown",
      "metadata": {
        "id": "n_Mf8MYAUJ1E"
      },
      "source": [
        "#### For backpropagation we need to keep the gradients\n",
        "\n",
        "\n",
        "\n",
        "\n",
        "\n",
        "\n"
      ]
    },
    {
      "cell_type": "code",
      "metadata": {
        "id": "O0LjDSx3Hji2"
      },
      "source": [
        "# define a tensor as part of graph\n",
        "t = torch.tensor([1.0, 2.0, 3.0], requires_grad=True)\n",
        "\n",
        "# check if a tensor has gradients\n",
        "t.requires_grad"
      ],
      "execution_count": null,
      "outputs": []
    },
    {
      "cell_type": "markdown",
      "metadata": {
        "id": "IKpN9_QQFNkb"
      },
      "source": [
        "### **Exercise**: Generate 1000 points random points following a Gaussian distribution with mean 3 and standard deviation 5. Put that data into a tensor and move it to the GPU. There compute the mean and the standard deviation."
      ]
    },
    {
      "cell_type": "code",
      "metadata": {
        "id": "THWM71RhGas0"
      },
      "source": [
        ""
      ],
      "execution_count": null,
      "outputs": []
    }
  ]
}
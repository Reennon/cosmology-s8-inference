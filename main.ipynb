{
 "cells": [
  {
   "cell_type": "code",
   "execution_count": 1,
   "outputs": [],
   "source": [
    "import numpy as np\n",
    "import torch\n",
    "\n",
    "from model import one_hidden_layer\n",
    "from dataset import create_dataset\n",
    "from trainer import train_model"
   ],
   "metadata": {
    "collapsed": false,
    "ExecuteTime": {
     "end_time": "2023-08-10T15:31:49.833582Z",
     "start_time": "2023-08-10T15:31:49.156341Z"
    }
   }
  },
  {
   "cell_type": "code",
   "execution_count": 2,
   "outputs": [],
   "source": [
    "device = 'cpu'"
   ],
   "metadata": {
    "collapsed": false,
    "ExecuteTime": {
     "end_time": "2023-08-10T15:31:49.836329Z",
     "start_time": "2023-08-10T15:31:49.834224Z"
    }
   }
  },
  {
   "cell_type": "code",
   "execution_count": 3,
   "outputs": [],
   "source": [
    "seed           = 1                         #random seed to shuffle data before splitting into training, validation and testing\n",
    "f_SFRD         = './ML_lectures/data/SFRH_IllustrisTNG.npy'   #file with the SFRD data\n",
    "f_params       = './ML_lectures/data/params_IllustrisTNG.txt' #file with the value of the parameters\n",
    "min_valid_loss = 1e7                       #set this to a large number. Used to compute\n",
    "\n",
    "batch_size     = 32                        #number of elements each batch contains. Hyper-parameter\n",
    "lr             = 3e-4                      #value of the learning rate. Hyper-parameter\n",
    "wd             = 0.0                       #value of the weight decay. Hyper-parameter\n",
    "dr             = 0.2                       #dropout rate. Hyper-parameter\n",
    "epochs         = 300                       #number of epochs to train the network. Hyper-parameter\n",
    "\n",
    "f_model = 'best_model.pt'"
   ],
   "metadata": {
    "collapsed": false,
    "ExecuteTime": {
     "end_time": "2023-08-10T15:31:49.838738Z",
     "start_time": "2023-08-10T15:31:49.836991Z"
    }
   }
  },
  {
   "cell_type": "code",
   "execution_count": 4,
   "outputs": [],
   "source": [
    "# get the data\n",
    "train_loader = create_dataset('train', f_SFRD, f_params, batch_size, seed) #training data\n",
    "valid_loader = create_dataset('valid', f_SFRD, f_params, batch_size, seed) #validation data"
   ],
   "metadata": {
    "collapsed": false,
    "ExecuteTime": {
     "end_time": "2023-08-10T15:31:49.846719Z",
     "start_time": "2023-08-10T15:31:49.839577Z"
    }
   }
  },
  {
   "cell_type": "code",
   "execution_count": 5,
   "outputs": [
    {
     "data": {
      "text/plain": "one_hidden_layer(\n  (fc1): Linear(in_features=100, out_features=100, bias=True)\n  (fc2): Linear(in_features=100, out_features=12, bias=True)\n  (dropout): Dropout(p=0.2, inplace=False)\n  (ReLU): ReLU()\n  (LeakyReLU): LeakyReLU(negative_slope=0.2)\n)"
     },
     "execution_count": 5,
     "metadata": {},
     "output_type": "execute_result"
    }
   ],
   "source": [
    "model = one_hidden_layer(100, 100, 12, dr) #architecture (we output 12 parameters, 6 posterior means, and 6 posterior standard deviations)\n",
    "model.to(device=device)"
   ],
   "metadata": {
    "collapsed": false,
    "ExecuteTime": {
     "end_time": "2023-08-10T15:31:49.852403Z",
     "start_time": "2023-08-10T15:31:49.848215Z"
    }
   }
  },
  {
   "cell_type": "code",
   "execution_count": 6,
   "outputs": [
    {
     "data": {
      "text/plain": "one_hidden_layer(\n  (fc1): Linear(in_features=100, out_features=100, bias=True)\n  (fc2): Linear(in_features=100, out_features=12, bias=True)\n  (dropout): Dropout(p=0.2, inplace=False)\n  (ReLU): ReLU()\n  (LeakyReLU): LeakyReLU(negative_slope=0.2)\n)"
     },
     "execution_count": 6,
     "metadata": {},
     "output_type": "execute_result"
    }
   ],
   "source": [
    "model"
   ],
   "metadata": {
    "collapsed": false,
    "ExecuteTime": {
     "end_time": "2023-08-10T15:31:49.872873Z",
     "start_time": "2023-08-10T15:31:49.852880Z"
    }
   }
  },
  {
   "cell_type": "code",
   "execution_count": 28,
   "outputs": [
    {
     "name": "stdout",
     "output_type": "stream",
     "text": [
      "000 -1.771e+00 -1.684e+00 (best-model)\n",
      "001 -1.771e+00 -1.690e+00 (best-model)\n",
      "002 -1.764e+00 -1.691e+00 (best-model)\n",
      "003 -1.767e+00 -1.706e+00 (best-model)\n",
      "004 -1.770e+00 -1.678e+00\n",
      "005 -1.774e+00 -1.699e+00\n",
      "006 -1.772e+00 -1.698e+00\n",
      "007 -1.770e+00 -1.700e+00\n",
      "008 -1.765e+00 -1.684e+00\n",
      "009 -1.769e+00 -1.696e+00\n",
      "010 -1.760e+00 -1.672e+00\n",
      "011 -1.769e+00 -1.674e+00\n",
      "012 -1.775e+00 -1.684e+00\n",
      "013 -1.765e+00 -1.686e+00\n",
      "014 -1.750e+00 -1.692e+00\n",
      "015 -1.770e+00 -1.701e+00\n",
      "016 -1.770e+00 -1.691e+00\n",
      "017 -1.770e+00 -1.693e+00\n",
      "018 -1.762e+00 -1.679e+00\n",
      "019 -1.768e+00 -1.682e+00\n",
      "020 -1.768e+00 -1.685e+00\n",
      "021 -1.772e+00 -1.688e+00\n",
      "022 -1.767e+00 -1.676e+00\n",
      "023 -1.769e+00 -1.696e+00\n",
      "024 -1.758e+00 -1.694e+00\n",
      "025 -1.759e+00 -1.682e+00\n",
      "026 -1.771e+00 -1.687e+00\n",
      "027 -1.768e+00 -1.705e+00\n",
      "028 -1.775e+00 -1.696e+00\n",
      "029 -1.769e+00 -1.693e+00\n",
      "030 -1.780e+00 -1.677e+00\n",
      "031 -1.760e+00 -1.705e+00\n",
      "032 -1.783e+00 -1.679e+00\n",
      "033 -1.769e+00 -1.680e+00\n",
      "034 -1.769e+00 -1.696e+00\n",
      "035 -1.764e+00 -1.686e+00\n",
      "036 -1.766e+00 -1.680e+00\n",
      "037 -1.773e+00 -1.704e+00\n",
      "038 -1.777e+00 -1.693e+00\n",
      "039 -1.775e+00 -1.688e+00\n",
      "040 -1.766e+00 -1.687e+00\n",
      "041 -1.771e+00 -1.694e+00\n",
      "042 -1.772e+00 -1.685e+00\n",
      "043 -1.779e+00 -1.693e+00\n",
      "044 -1.772e+00 -1.676e+00\n",
      "045 -1.767e+00 -1.682e+00\n",
      "046 -1.754e+00 -1.688e+00\n",
      "047 -1.760e+00 -1.692e+00\n",
      "048 -1.779e+00 -1.684e+00\n",
      "049 -1.770e+00 -1.698e+00\n",
      "050 -1.762e+00 -1.684e+00\n",
      "051 -1.780e+00 -1.678e+00\n",
      "052 -1.766e+00 -1.684e+00\n",
      "053 -1.756e+00 -1.688e+00\n",
      "054 -1.781e+00 -1.689e+00\n",
      "055 -1.781e+00 -1.693e+00\n",
      "056 -1.768e+00 -1.699e+00\n",
      "057 -1.770e+00 -1.705e+00\n",
      "058 -1.770e+00 -1.693e+00\n",
      "059 -1.769e+00 -1.689e+00\n",
      "060 -1.777e+00 -1.701e+00\n",
      "061 -1.766e+00 -1.683e+00\n",
      "062 -1.777e+00 -1.707e+00 (best-model)\n",
      "063 -1.764e+00 -1.675e+00\n",
      "064 -1.769e+00 -1.678e+00\n",
      "065 -1.773e+00 -1.692e+00\n",
      "066 -1.765e+00 -1.698e+00\n",
      "067 -1.773e+00 -1.692e+00\n",
      "068 -1.771e+00 -1.688e+00\n",
      "069 -1.774e+00 -1.684e+00\n",
      "070 -1.777e+00 -1.694e+00\n",
      "071 -1.779e+00 -1.671e+00\n",
      "072 -1.764e+00 -1.692e+00\n",
      "073 -1.764e+00 -1.687e+00\n",
      "074 -1.773e+00 -1.680e+00\n",
      "075 -1.781e+00 -1.688e+00\n",
      "076 -1.762e+00 -1.685e+00\n",
      "077 -1.762e+00 -1.688e+00\n",
      "078 -1.754e+00 -1.682e+00\n",
      "079 -1.773e+00 -1.675e+00\n",
      "080 -1.770e+00 -1.680e+00\n",
      "081 -1.774e+00 -1.678e+00\n",
      "082 -1.774e+00 -1.686e+00\n",
      "083 -1.767e+00 -1.693e+00\n",
      "084 -1.776e+00 -1.685e+00\n",
      "085 -1.779e+00 -1.684e+00\n",
      "086 -1.766e+00 -1.680e+00\n",
      "087 -1.769e+00 -1.678e+00\n",
      "088 -1.763e+00 -1.692e+00\n",
      "089 -1.784e+00 -1.673e+00\n",
      "090 -1.758e+00 -1.685e+00\n",
      "091 -1.761e+00 -1.687e+00\n",
      "092 -1.777e+00 -1.696e+00\n",
      "093 -1.776e+00 -1.693e+00\n",
      "094 -1.779e+00 -1.711e+00 (best-model)\n",
      "095 -1.763e+00 -1.684e+00\n",
      "096 -1.777e+00 -1.685e+00\n",
      "097 -1.761e+00 -1.679e+00\n",
      "098 -1.766e+00 -1.686e+00\n",
      "099 -1.766e+00 -1.686e+00\n",
      "100 -1.776e+00 -1.689e+00\n",
      "101 -1.783e+00 -1.683e+00\n",
      "102 -1.772e+00 -1.681e+00\n",
      "103 -1.774e+00 -1.692e+00\n",
      "104 -1.771e+00 -1.701e+00\n",
      "105 -1.766e+00 -1.687e+00\n",
      "106 -1.768e+00 -1.684e+00\n",
      "107 -1.779e+00 -1.685e+00\n",
      "108 -1.782e+00 -1.675e+00\n",
      "109 -1.776e+00 -1.688e+00\n",
      "110 -1.776e+00 -1.693e+00\n",
      "111 -1.765e+00 -1.690e+00\n",
      "112 -1.782e+00 -1.692e+00\n",
      "113 -1.773e+00 -1.686e+00\n",
      "114 -1.776e+00 -1.692e+00\n",
      "115 -1.780e+00 -1.675e+00\n",
      "116 -1.770e+00 -1.683e+00\n",
      "117 -1.759e+00 -1.682e+00\n",
      "118 -1.771e+00 -1.681e+00\n",
      "119 -1.780e+00 -1.691e+00\n",
      "120 -1.767e+00 -1.685e+00\n",
      "121 -1.782e+00 -1.695e+00\n",
      "122 -1.776e+00 -1.682e+00\n",
      "123 -1.766e+00 -1.692e+00\n",
      "124 -1.758e+00 -1.680e+00\n",
      "125 -1.772e+00 -1.688e+00\n",
      "126 -1.776e+00 -1.691e+00\n",
      "127 -1.768e+00 -1.700e+00\n",
      "128 -1.769e+00 -1.677e+00\n",
      "129 -1.775e+00 -1.687e+00\n",
      "130 -1.776e+00 -1.687e+00\n",
      "131 -1.759e+00 -1.692e+00\n",
      "132 -1.772e+00 -1.698e+00\n",
      "133 -1.776e+00 -1.689e+00\n",
      "134 -1.770e+00 -1.698e+00\n",
      "135 -1.777e+00 -1.681e+00\n",
      "136 -1.761e+00 -1.681e+00\n",
      "137 -1.778e+00 -1.688e+00\n",
      "138 -1.780e+00 -1.685e+00\n",
      "139 -1.778e+00 -1.691e+00\n",
      "140 -1.770e+00 -1.690e+00\n",
      "141 -1.759e+00 -1.699e+00\n",
      "142 -1.767e+00 -1.692e+00\n",
      "143 -1.772e+00 -1.683e+00\n",
      "144 -1.767e+00 -1.694e+00\n",
      "145 -1.775e+00 -1.702e+00\n",
      "146 -1.778e+00 -1.685e+00\n",
      "147 -1.783e+00 -1.685e+00\n",
      "148 -1.773e+00 -1.704e+00\n",
      "149 -1.774e+00 -1.676e+00\n",
      "150 -1.779e+00 -1.692e+00\n",
      "151 -1.774e+00 -1.688e+00\n",
      "152 -1.774e+00 -1.674e+00\n",
      "153 -1.770e+00 -1.693e+00\n",
      "154 -1.783e+00 -1.675e+00\n",
      "155 -1.771e+00 -1.684e+00\n",
      "156 -1.768e+00 -1.678e+00\n",
      "157 -1.772e+00 -1.683e+00\n",
      "158 -1.767e+00 -1.689e+00\n",
      "159 -1.771e+00 -1.688e+00\n",
      "160 -1.782e+00 -1.698e+00\n",
      "161 -1.776e+00 -1.683e+00\n",
      "162 -1.769e+00 -1.683e+00\n",
      "163 -1.776e+00 -1.687e+00\n",
      "164 -1.771e+00 -1.690e+00\n",
      "165 -1.772e+00 -1.672e+00\n",
      "166 -1.774e+00 -1.678e+00\n",
      "167 -1.768e+00 -1.680e+00\n",
      "168 -1.762e+00 -1.680e+00\n",
      "169 -1.766e+00 -1.680e+00\n",
      "170 -1.777e+00 -1.697e+00\n",
      "171 -1.769e+00 -1.705e+00\n",
      "172 -1.773e+00 -1.678e+00\n",
      "173 -1.770e+00 -1.692e+00\n",
      "174 -1.766e+00 -1.685e+00\n",
      "175 -1.761e+00 -1.692e+00\n",
      "176 -1.768e+00 -1.683e+00\n",
      "177 -1.779e+00 -1.687e+00\n",
      "178 -1.770e+00 -1.684e+00\n",
      "179 -1.775e+00 -1.684e+00\n",
      "180 -1.778e+00 -1.699e+00\n",
      "181 -1.761e+00 -1.685e+00\n",
      "182 -1.768e+00 -1.686e+00\n",
      "183 -1.766e+00 -1.687e+00\n",
      "184 -1.769e+00 -1.709e+00\n",
      "185 -1.766e+00 -1.699e+00\n",
      "186 -1.765e+00 -1.692e+00\n",
      "187 -1.772e+00 -1.693e+00\n",
      "188 -1.780e+00 -1.682e+00\n",
      "189 -1.760e+00 -1.683e+00\n",
      "190 -1.776e+00 -1.697e+00\n",
      "191 -1.779e+00 -1.678e+00\n",
      "192 -1.762e+00 -1.679e+00\n",
      "193 -1.764e+00 -1.686e+00\n",
      "194 -1.771e+00 -1.689e+00\n",
      "195 -1.776e+00 -1.693e+00\n",
      "196 -1.776e+00 -1.698e+00\n",
      "197 -1.773e+00 -1.690e+00\n",
      "198 -1.775e+00 -1.683e+00\n",
      "199 -1.780e+00 -1.696e+00\n",
      "200 -1.767e+00 -1.690e+00\n",
      "201 -1.789e+00 -1.693e+00\n",
      "202 -1.771e+00 -1.693e+00\n",
      "203 -1.782e+00 -1.681e+00\n",
      "204 -1.766e+00 -1.682e+00\n",
      "205 -1.776e+00 -1.690e+00\n",
      "206 -1.769e+00 -1.685e+00\n",
      "207 -1.772e+00 -1.684e+00\n",
      "208 -1.777e+00 -1.682e+00\n",
      "209 -1.768e+00 -1.683e+00\n",
      "210 -1.773e+00 -1.696e+00\n",
      "211 -1.778e+00 -1.689e+00\n",
      "212 -1.767e+00 -1.711e+00\n",
      "213 -1.763e+00 -1.689e+00\n",
      "214 -1.773e+00 -1.687e+00\n",
      "215 -1.779e+00 -1.688e+00\n",
      "216 -1.771e+00 -1.682e+00\n",
      "217 -1.774e+00 -1.698e+00\n",
      "218 -1.786e+00 -1.699e+00\n",
      "219 -1.784e+00 -1.694e+00\n",
      "220 -1.767e+00 -1.682e+00\n",
      "221 -1.770e+00 -1.690e+00\n",
      "222 -1.767e+00 -1.694e+00\n",
      "223 -1.783e+00 -1.695e+00\n",
      "224 -1.763e+00 -1.689e+00\n",
      "225 -1.773e+00 -1.670e+00\n",
      "226 -1.780e+00 -1.691e+00\n",
      "227 -1.769e+00 -1.690e+00\n",
      "228 -1.779e+00 -1.683e+00\n",
      "229 -1.783e+00 -1.686e+00\n",
      "230 -1.776e+00 -1.684e+00\n",
      "231 -1.786e+00 -1.693e+00\n",
      "232 -1.770e+00 -1.680e+00\n",
      "233 -1.772e+00 -1.686e+00\n",
      "234 -1.769e+00 -1.681e+00\n",
      "235 -1.785e+00 -1.678e+00\n",
      "236 -1.766e+00 -1.683e+00\n",
      "237 -1.767e+00 -1.696e+00\n",
      "238 -1.779e+00 -1.683e+00\n",
      "239 -1.780e+00 -1.685e+00\n",
      "240 -1.757e+00 -1.688e+00\n",
      "241 -1.771e+00 -1.708e+00\n",
      "242 -1.773e+00 -1.682e+00\n",
      "243 -1.782e+00 -1.704e+00\n",
      "244 -1.775e+00 -1.687e+00\n",
      "245 -1.773e+00 -1.696e+00\n",
      "246 -1.782e+00 -1.693e+00\n",
      "247 -1.767e+00 -1.684e+00\n",
      "248 -1.765e+00 -1.673e+00\n",
      "249 -1.772e+00 -1.696e+00\n",
      "250 -1.772e+00 -1.693e+00\n",
      "251 -1.784e+00 -1.690e+00\n",
      "252 -1.780e+00 -1.707e+00\n",
      "253 -1.766e+00 -1.684e+00\n",
      "254 -1.770e+00 -1.700e+00\n",
      "255 -1.766e+00 -1.694e+00\n",
      "256 -1.780e+00 -1.689e+00\n",
      "257 -1.769e+00 -1.684e+00\n",
      "258 -1.772e+00 -1.698e+00\n",
      "259 -1.768e+00 -1.693e+00\n",
      "260 -1.771e+00 -1.683e+00\n",
      "261 -1.777e+00 -1.700e+00\n",
      "262 -1.787e+00 -1.682e+00\n",
      "263 -1.773e+00 -1.678e+00\n",
      "264 -1.776e+00 -1.682e+00\n",
      "265 -1.766e+00 -1.691e+00\n",
      "266 -1.773e+00 -1.709e+00\n",
      "267 -1.776e+00 -1.700e+00\n",
      "268 -1.776e+00 -1.703e+00\n",
      "269 -1.781e+00 -1.695e+00\n",
      "270 -1.770e+00 -1.704e+00\n",
      "271 -1.784e+00 -1.695e+00\n",
      "272 -1.776e+00 -1.669e+00\n",
      "273 -1.779e+00 -1.696e+00\n",
      "274 -1.774e+00 -1.683e+00\n",
      "275 -1.768e+00 -1.689e+00\n",
      "276 -1.769e+00 -1.698e+00\n",
      "277 -1.768e+00 -1.685e+00\n",
      "278 -1.765e+00 -1.690e+00\n",
      "279 -1.767e+00 -1.682e+00\n",
      "280 -1.770e+00 -1.695e+00\n",
      "281 -1.775e+00 -1.707e+00\n",
      "282 -1.778e+00 -1.692e+00\n",
      "283 -1.772e+00 -1.681e+00\n",
      "284 -1.781e+00 -1.696e+00\n",
      "285 -1.778e+00 -1.699e+00\n",
      "286 -1.762e+00 -1.681e+00\n",
      "287 -1.764e+00 -1.697e+00\n",
      "288 -1.777e+00 -1.698e+00\n",
      "289 -1.781e+00 -1.689e+00\n",
      "290 -1.768e+00 -1.681e+00\n",
      "291 -1.768e+00 -1.692e+00\n",
      "292 -1.779e+00 -1.697e+00\n",
      "293 -1.771e+00 -1.698e+00\n",
      "294 -1.770e+00 -1.692e+00\n",
      "295 -1.787e+00 -1.690e+00\n",
      "296 -1.767e+00 -1.679e+00\n",
      "297 -1.773e+00 -1.691e+00\n",
      "298 -1.778e+00 -1.687e+00\n",
      "299 -1.776e+00 -1.698e+00\n",
      "Time taken (seconds): 2.3464\n"
     ]
    }
   ],
   "source": [
    "optim = torch.optim.Adam(model.parameters(), lr=lr, betas=(0.5, 0.999), weight_decay=wd)\n",
    "\n",
    "model = train_model(\n",
    "    epochs=epochs,\n",
    "    model=model,\n",
    "    f_model=f_model,\n",
    "    train_loader=train_loader,\n",
    "    valid_loader=valid_loader,\n",
    "    device='cpu',\n",
    "    optimizer=optim\n",
    ")"
   ],
   "metadata": {
    "collapsed": false,
    "ExecuteTime": {
     "end_time": "2023-08-10T15:43:59.521137Z",
     "start_time": "2023-08-10T15:43:57.173108Z"
    }
   }
  },
  {
   "cell_type": "code",
   "execution_count": 25,
   "outputs": [
    {
     "name": "stdout",
     "output_type": "stream",
     "text": [
      "test loss = -7.318e+00\n"
     ]
    }
   ],
   "source": [
    "# get the test data\n",
    "test_loader = create_dataset('test', f_SFRD, f_params, batch_size, seed) #test data\n",
    "\n",
    "# load the best-model and move it to the GPU\n",
    "model.load_state_dict(torch.load(f_model))\n",
    "model.to(device=device)\n",
    "\n",
    "params_true = np.zeros((150,6), dtype=np.float32)\n",
    "params_NN   = np.zeros((150,6), dtype=np.float32)\n",
    "errors_NN   = np.zeros((150,6), dtype=np.float32)\n",
    "\n",
    "# loop over the different batches and get the prediction\n",
    "offset = 0\n",
    "test_loss, points = 0.0, 0\n",
    "model.eval()\n",
    "count = 0\n",
    "for SFRH_test, params_test, _ in test_loader:\n",
    "    with torch.no_grad():\n",
    "\n",
    "        bs = SFRH_test.shape[0]\n",
    "\n",
    "        # move data to GPU\n",
    "        SFRH_test   = SFRH_test.to(device)\n",
    "        params_test = params_test.to(device)\n",
    "\n",
    "        # make prediction using network\n",
    "        p = model(SFRH_test)\n",
    "\n",
    "        params_true[count:count+bs,:] = params_test.cpu().numpy()\n",
    "        params_NN[count:count+bs, :]  = p[:,:6].cpu().numpy()\n",
    "        errors_NN[count:count+bs, :]  = p[:,6:].cpu().numpy()\n",
    "\n",
    "        loss1 = torch.mean((p[:,:6] - params_test)**2,                axis=0)\n",
    "        loss2 = torch.mean(((p[:,:6] - params_test)**2 - p[:,6:])**2, axis=0)\n",
    "        loss  = torch.mean(torch.log(loss1) + torch.log(loss2))\n",
    "\n",
    "        # compute cumulative loss and number of examples used\n",
    "        test_loss += loss.item()*bs\n",
    "        points += SFRH_test.shape[0]\n",
    "\n",
    "        count += bs\n",
    "\n",
    "# get the average validation loss\n",
    "test_loss /= points\n",
    "\n",
    "print('test loss = %.3e'%test_loss)"
   ],
   "metadata": {
    "collapsed": false,
    "ExecuteTime": {
     "end_time": "2023-08-10T15:43:39.866009Z",
     "start_time": "2023-08-10T15:43:39.856694Z"
    }
   }
  },
  {
   "cell_type": "code",
   "execution_count": 26,
   "outputs": [
    {
     "name": "stderr",
     "output_type": "stream",
     "text": [
      "/var/folders/gg/1kd93k4x47q5_gj92ljtjf000000gq/T/ipykernel_74953/2523764333.py:9: RuntimeWarning: invalid value encountered in sqrt\n",
      "  plt.errorbar(params_true[:,1]/((params_true[:, 0])**0.5), params_NN[:,1]/(params_NN[:,0]**0.5), yerr=np.absolute(errors_NN[:,1]/(params_NN[:,0]**0.5)),\n"
     ]
    },
    {
     "data": {
      "text/plain": "<Figure size 640x480 with 1 Axes>",
      "image/png": "[encoded data removed]"
     },
     "metadata": {},
     "output_type": "display_data"
    }
   ],
   "source": [
    "import matplotlib.pyplot as plt\n",
    "\n",
    "plt.ylabel(r'${\\rm NN prediction}$')\n",
    "plt.xlabel(r'${\\rm True}$')\n",
    "\n",
    "#plt.xscale('log')\n",
    "#plt.yscale('log')\n",
    "\n",
    "plt.errorbar(params_true[:,1]/((params_true[:, 0])**0.5), params_NN[:,1]/(params_NN[:,0]**0.5), yerr=np.absolute(errors_NN[:,1]/(params_NN[:,0]**0.5)),\n",
    "              lw=1, fmt='o',ms=2, elinewidth=1,capsize=5,linestyle='None')\n",
    "#plt.scatter(params_true[:,0], params_NN[:,0])\n",
    "plt.plot([0,1],[0,1])\n",
    "#plt.plot(epochs2, valid_value)\n",
    "\n",
    "plt.show()"
   ],
   "metadata": {
    "collapsed": false,
    "ExecuteTime": {
     "end_time": "2023-08-10T15:43:42.874200Z",
     "start_time": "2023-08-10T15:43:42.747035Z"
    }
   }
  },
  {
   "cell_type": "code",
   "execution_count": 27,
   "outputs": [
    {
     "data": {
      "text/plain": "<Figure size 640x480 with 1 Axes>",
      "image/png": "[encoded data removed]"
     },
     "metadata": {},
     "output_type": "display_data"
    }
   ],
   "source": [
    "import matplotlib.pyplot as plt\n",
    "\n",
    "plt.ylabel(r'${\\rm NN prediction}$')\n",
    "plt.xlabel(r'${\\rm True}$')\n",
    "\n",
    "#plt.xscale('log')\n",
    "#plt.yscale('log')\n",
    "\n",
    "plt.errorbar(params_true[:,1], params_NN[:,1], yerr=np.absolute(errors_NN[:,1]),\n",
    "              lw=1, fmt='o',ms=2, elinewidth=1,capsize=5,linestyle='None')\n",
    "#plt.scatter(params_true[:,0], params_NN[:,0])\n",
    "plt.plot([0,1],[0,1])\n",
    "#plt.plot(epochs2, valid_value)\n",
    "\n",
    "plt.show()"
   ],
   "metadata": {
    "collapsed": false,
    "ExecuteTime": {
     "end_time": "2023-08-10T15:43:46.562789Z",
     "start_time": "2023-08-10T15:43:46.500326Z"
    }
   }
  }
 ],
 "metadata": {
  "kernelspec": {
   "display_name": "Python 3",
   "language": "python",
   "name": "python3"
  },
  "language_info": {
   "codemirror_mode": {
    "name": "ipython",
    "version": 2
   },
   "file_extension": ".py",
   "mimetype": "text/x-python",
   "name": "python",
   "nbconvert_exporter": "python",
   "pygments_lexer": "ipython2",
   "version": "2.7.6"
  }
 },
 "nbformat": 4,
 "nbformat_minor": 0
}
